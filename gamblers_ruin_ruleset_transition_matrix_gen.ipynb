{
  "nbformat": 4,
  "nbformat_minor": 0,
  "metadata": {
    "colab": {
      "provenance": [],
      "collapsed_sections": [],
      "authorship_tag": "ABX9TyOqo9Fg2eIf8o3nY11HzkB9",
      "include_colab_link": true
    },
    "kernelspec": {
      "name": "python3",
      "display_name": "Python 3"
    },
    "language_info": {
      "name": "python"
    }
  },
  "cells": [
    {
      "cell_type": "markdown",
      "metadata": {
        "id": "view-in-github",
        "colab_type": "text"
      },
      "source": [
        "<a href=\"https://colab.research.google.com/github/mondragonda/notebooks/blob/main/gamblers_ruin_ruleset_transition_matrix_gen.ipynb\" target=\"_parent\"><img src=\"https://colab.research.google.com/assets/colab-badge.svg\" alt=\"Open In Colab\"/></a>"
      ]
    },
    {
      "cell_type": "code",
      "execution_count": 68,
      "metadata": {
        "colab": {
          "base_uri": "https://localhost:8080/"
        },
        "id": "tQG77KfzslhU",
        "outputId": "929365bf-936e-4580-adaa-7423c1f1cb1f"
      },
      "outputs": [
        {
          "output_type": "stream",
          "name": "stdout",
          "text": [
            "[[1.0, 0.0, 0.0, 0.0, 0.0, 0.0],\n",
            " [0.6, 0.0, 0.4, 0.0, 0.0, 0.0],\n",
            " [0.0, 0.6, 0.0, 0.4, 0.0, 0.0],\n",
            " [0.0, 0.0, 0.6, 0.0, 0.4, 0.0],\n",
            " [0.0, 0.0, 0.0, 0.6, 0.0, 0.4],\n",
            " [0.0, 0.0, 0.0, 0.0, 0.0, 1.0]]\n"
          ]
        }
      ],
      "source": [
        "n = 5\n",
        "p = 0.4\n",
        "\n",
        "transitions_ruleset = {\n",
        "  'p': ['j == i + 1', 'and', '0 < i < n'],\n",
        "  '1 - p': ['j == i - 1', 'and', '0 < i < n'],\n",
        "  '1': ['i == j == 0', 'or', 'i == j == n'],\n",
        "  '0': ['True']\n",
        "}\n",
        "\n",
        "transition_matrix = []\n",
        "\n",
        "for i in range(n + 1):\n",
        "  transition_matrix.append([])\n",
        "  for j in range((n + 1)):\n",
        "    for transition, transition_ruleset in transitions_ruleset.items():\n",
        "      apply = False\n",
        "      rule_stmt = 'apply = '+' '.join(transition_ruleset)\n",
        "      exec(rule_stmt)\n",
        "      if apply:\n",
        "        exec(f'transition_matrix[i].append(float({transition}))')\n",
        "        break\n",
        "\n",
        "from re import sub\n",
        "\n",
        "print(str(transition_matrix).replace('],', '],\\n'))\n",
        "      \n",
        "      \n",
        "\n"
      ]
    }
  ]
}