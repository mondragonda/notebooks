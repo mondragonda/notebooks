{
  "nbformat": 4,
  "nbformat_minor": 0,
  "metadata": {
    "colab": {
      "provenance": [],
      "collapsed_sections": [],
      "authorship_tag": "ABX9TyOS/qlf6yVgm9pGNp7XzVl9",
      "include_colab_link": true
    },
    "kernelspec": {
      "name": "python3",
      "display_name": "Python 3"
    },
    "language_info": {
      "name": "python"
    }
  },
  "cells": [
    {
      "cell_type": "markdown",
      "metadata": {
        "id": "view-in-github",
        "colab_type": "text"
      },
      "source": [
        "<a href=\"https://colab.research.google.com/github/mondragonda/notebooks/blob/main/k_means.ipynb\" target=\"_parent\"><img src=\"https://colab.research.google.com/assets/colab-badge.svg\" alt=\"Open In Colab\"/></a>"
      ]
    },
    {
      "cell_type": "code",
      "source": [
        "pip install matplotlib pip install scipy pip install sklearn"
      ],
      "metadata": {
        "id": "_4NrF7qayWXS"
      },
      "execution_count": null,
      "outputs": []
    },
    {
      "cell_type": "code",
      "execution_count": 165,
      "metadata": {
        "colab": {
          "base_uri": "https://localhost:8080/",
          "height": 1000
        },
        "id": "NK8aPkrqk0tf",
        "outputId": "ccda1998-c7a9-4f97-87b1-367be268dc41"
      },
      "outputs": [
        {
          "output_type": "stream",
          "name": "stdout",
          "text": [
            "\n",
            "result scipy: [[0.26238691 0.51474923]\n",
            " [0.81212927 0.79921946]] \n",
            "\n"
          ]
        },
        {
          "output_type": "display_data",
          "data": {
            "text/plain": [
              "<Figure size 432x288 with 1 Axes>"
            ],
            "image/png": "[encoded data removed]"
          },
          "metadata": {
            "needs_background": "light"
          }
        },
        {
          "output_type": "stream",
          "name": "stdout",
          "text": [
            "\n",
            "result sklearn: \n",
            " [[0.52045194 0.92355992]\n",
            " [0.12795755 0.11583223]\n",
            " [0.8961501  0.73210239]] \n",
            "\n"
          ]
        },
        {
          "output_type": "display_data",
          "data": {
            "text/plain": [
              "<Figure size 432x288 with 1 Axes>"
            ],
            "image/png": "[encoded data removed]"
          },
          "metadata": {
            "needs_background": "light"
          }
        },
        {
          "output_type": "stream",
          "name": "stdout",
          "text": [
            "\n",
            "result scratch: \n",
            " [[0.38962048 0.65431736]\n",
            " [0.64408761 0.93345361]\n",
            " [0.8961501  0.73210239]] \n",
            "\n"
          ]
        },
        {
          "output_type": "display_data",
          "data": {
            "text/plain": [
              "<Figure size 432x288 with 1 Axes>"
            ],
            "image/png": "[encoded data removed]"
          },
          "metadata": {
            "needs_background": "light"
          }
        }
      ],
      "source": [
        "import numpy as np\n",
        "import matplotlib.pyplot as pyplot\n",
        "from math import sqrt\n",
        "\n",
        "data_points = np.random.random_sample((5, 2))\n",
        "initial_centroids = data_points.take(np.random.randint(0, data_points.shape[0], 3), 0)\n",
        "\n",
        "def plot_centroids(title, centroids):\n",
        "  pyplot.scatter(data_points[:, 0], data_points[:, 1])\n",
        "  pyplot.scatter(centroids[:,0], centroids[:,1], marker='x', s=256, c=\"red\")\n",
        "  pyplot.title(title)\n",
        "  pyplot.show()\n",
        "\n",
        "def k_means():\n",
        "  colors = ['#1f77b4', '#ff7f0e', '#2ca02c', '#d62728', '#9467bd']\n",
        "  centroids = initial_centroids.copy()\n",
        "  clusters = [[] for centroid in initial_centroids]\n",
        "  last_centroids = None\n",
        "  while True:\n",
        "    for data_point in data_points:\n",
        "      distances = []\n",
        "      for centroid in centroids:\n",
        "        centroid_point_distance = sqrt((data_point[0] - centroid[0])**2 + (data_point[1] - centroid[1])**2)\n",
        "        distances.append(centroid_point_distance)\n",
        "      nearest_centroid_index = np.argmin(np.array(distances))\n",
        "      clusters[nearest_centroid_index].append(data_point)\n",
        "    if np.array_equal(last_centroids, centroids):\n",
        "      print('\\nresult scratch: \\n',centroids, '\\n')\n",
        "      for cluster in range(len(clusters)):\n",
        "        cluster_np = np.array(clusters[cluster])\n",
        "        if cluster_np.size > 0:\n",
        "          pyplot.scatter(cluster_np[:,0], cluster_np[:,1], c=colors[cluster])\n",
        "      pyplot.scatter(centroids[:,0], centroids[:,1], marker='x', s=256, c=\"red\")\n",
        "      pyplot.title('Scratch k-means')\n",
        "      pyplot.show()\n",
        "      break\n",
        "    last_centroids = centroids  \n",
        "    for centroid in range(centroids.shape[0]):\n",
        "      if len(clusters[centroid]) > 0:\n",
        "        centroid_mean = np.array(clusters[centroid]).mean(axis=0)\n",
        "        if not np.array_equal(centroid_mean, centroids[centroid]):\n",
        "          centroids[centroid] = centroid_mean\n",
        "          clusters[centroid] = []\n",
        "\n",
        "from scipy.cluster.vq import vq, kmeans, whiten\n",
        "\n",
        "def k_means_scipy():\n",
        "  centroids = initial_centroids.copy()\n",
        "  codebook = kmeans(data_points, centroids)\n",
        "  print('\\nresult scipy:', codebook[0], '\\n')\n",
        "  plot_centroids('Scipy k-means', codebook[0])\n",
        "\n",
        "from sklearn.cluster import KMeans\n",
        "\n",
        "def k_means_scikit_learn():\n",
        "  centroids = initial_centroids.copy()\n",
        "  kmeans = KMeans(3, init=centroids, n_init=1).fit(data_points)\n",
        "  print('\\nresult sklearn: \\n', kmeans.cluster_centers_, '\\n')\n",
        "  plot_centroids('Sklearn k-means', kmeans.cluster_centers_)\n",
        "\n",
        "k_means_scipy()\n",
        "k_means_scikit_learn()\n",
        "k_means()\n",
        "\n",
        "\n",
        "\n",
        "\n",
        "\n",
        "\n"
      ]
    }
  ]
}