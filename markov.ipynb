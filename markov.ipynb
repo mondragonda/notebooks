{
  "nbformat": 4,
  "nbformat_minor": 0,
  "metadata": {
    "colab": {
      "provenance": [],
      "collapsed_sections": [],
      "authorship_tag": "ABX9TyMQ/H69kSJFPWtNQymvLxcs",
      "include_colab_link": true
    },
    "kernelspec": {
      "name": "python3",
      "display_name": "Python 3"
    },
    "language_info": {
      "name": "python"
    }
  },
  "cells": [
    {
      "cell_type": "markdown",
      "metadata": {
        "id": "view-in-github",
        "colab_type": "text"
      },
      "source": [
        "<a href=\"https://colab.research.google.com/github/mondragonda/notebooks/blob/main/markov.ipynb\" target=\"_parent\"><img src=\"https://colab.research.google.com/assets/colab-badge.svg\" alt=\"Open In Colab\"/></a>"
      ]
    },
    {
      "cell_type": "code",
      "execution_count": 289,
      "metadata": {
        "colab": {
          "base_uri": "https://localhost:8080/"
        },
        "id": "rknzEqjTUGME",
        "outputId": "ba3100dc-e7ce-4158-ec80-08cd88104ef0"
      },
      "outputs": [
        {
          "output_type": "stream",
          "name": "stdout",
          "text": [
            "Looking in indexes: https://pypi.org/simple, https://us-python.pkg.dev/colab-wheels/public/simple/\n",
            "Requirement already satisfied: numpy in /usr/local/lib/python3.7/dist-packages (1.21.6)\n",
            "Requirement already satisfied: pip in /usr/local/lib/python3.7/dist-packages (21.1.3)\n",
            "Collecting install\n",
            "  Downloading install-1.3.5-py3-none-any.whl (3.2 kB)\n",
            "Requirement already satisfied: matplotlib in /usr/local/lib/python3.7/dist-packages (3.2.2)\n",
            "Requirement already satisfied: cycler>=0.10 in /usr/local/lib/python3.7/dist-packages (from matplotlib) (0.11.0)\n",
            "Requirement already satisfied: python-dateutil>=2.1 in /usr/local/lib/python3.7/dist-packages (from matplotlib) (2.8.2)\n",
            "Requirement already satisfied: kiwisolver>=1.0.1 in /usr/local/lib/python3.7/dist-packages (from matplotlib) (1.4.4)\n",
            "Requirement already satisfied: pyparsing!=2.0.4,!=2.1.2,!=2.1.6,>=2.0.1 in /usr/local/lib/python3.7/dist-packages (from matplotlib) (3.0.9)\n",
            "Requirement already satisfied: typing-extensions in /usr/local/lib/python3.7/dist-packages (from kiwisolver>=1.0.1->matplotlib) (4.1.1)\n",
            "Requirement already satisfied: six>=1.5 in /usr/local/lib/python3.7/dist-packages (from python-dateutil>=2.1->matplotlib) (1.15.0)\n",
            "Installing collected packages: install\n",
            "Successfully installed install-1.3.5\n"
          ]
        }
      ],
      "source": [
        "!pip install numpy pip install matplotlib"
      ]
    },
    {
      "cell_type": "code",
      "source": [
        "import numpy\n",
        "import matplotlib.pyplot as pyplot\n",
        "\n",
        "#Markov chain\n",
        "sample = numpy.random.random_sample(100)\n",
        "print('sample size: ', sample.size)\n",
        "\n",
        "# iter\n",
        "t = 2\n",
        "\n",
        "# R, B, G labels\n",
        "labels = ['R', 'B', 'G']\n",
        "initial_distribution = [.7, .1, .2]\n",
        "\n",
        "transition_matrix = numpy.array([\n",
        "   #R   #G   #B\n",
        "  [.8,  .1,  .1], #R  R->R, G->R, B->R \n",
        "  [.2,  .7,  .1], #G  R->G, G->G, B->G \n",
        "  [.5,  .3,  .2]  #B  R->B, G->B, B->B \n",
        "]).T\n",
        "\n",
        "probability_output_matrix = [[sample.shape[0] * initial_distribution[label]] for label in range(len(labels))]\n",
        "\n",
        "for t in range(t):\n",
        "  print()\n",
        "  print('iter: ', t + 1)\n",
        "  labels_current_probs = numpy.array(probability_output_matrix)[:, -1]\n",
        "  for label in range(len(labels)):\n",
        "    label_prob_transition_vector = transition_matrix[label]\n",
        "    print(f'label: {labels[label]}')\n",
        "    print('transition vector: ', label_prob_transition_vector, 'current sample dist :', dict(zip(labels, labels_current_probs)))\n",
        "    label_output_prob = numpy.sum(label_prob_transition_vector * labels_current_probs)\n",
        "    print('t + 1 prob: ', label_output_prob)\n",
        "    print()\n",
        "    probability_output_matrix[label].append(label_output_prob)\n",
        "  print('iter prob sum:', numpy.sum(numpy.array(probability_output_matrix)[:, -1]))\n",
        "\n",
        "print()\n",
        "print(probability_output_matrix)\n",
        "\n",
        "\n",
        "\n"
      ],
      "metadata": {
        "colab": {
          "base_uri": "https://localhost:8080/"
        },
        "id": "bsNlcrkzUTeE",
        "outputId": "54aa203a-b998-4417-db99-557d0febd3df"
      },
      "execution_count": 302,
      "outputs": [
        {
          "output_type": "stream",
          "name": "stdout",
          "text": [
            "sample size:  100\n",
            "\n",
            "iter:  1\n",
            "label: R\n",
            "transition vector:  [0.8 0.2 0.5] current sample dist : {'R': 70.0, 'B': 10.0, 'G': 20.0}\n",
            "t + 1 prob:  68.0\n",
            "\n",
            "label: B\n",
            "transition vector:  [0.1 0.7 0.3] current sample dist : {'R': 70.0, 'B': 10.0, 'G': 20.0}\n",
            "t + 1 prob:  20.0\n",
            "\n",
            "label: G\n",
            "transition vector:  [0.1 0.1 0.2] current sample dist : {'R': 70.0, 'B': 10.0, 'G': 20.0}\n",
            "t + 1 prob:  12.0\n",
            "\n",
            "iter prob sum: 100.0\n",
            "\n",
            "iter:  2\n",
            "label: R\n",
            "transition vector:  [0.8 0.2 0.5] current sample dist : {'R': 68.0, 'B': 20.0, 'G': 12.0}\n",
            "t + 1 prob:  64.4\n",
            "\n",
            "label: B\n",
            "transition vector:  [0.1 0.7 0.3] current sample dist : {'R': 68.0, 'B': 20.0, 'G': 12.0}\n",
            "t + 1 prob:  24.4\n",
            "\n",
            "label: G\n",
            "transition vector:  [0.1 0.1 0.2] current sample dist : {'R': 68.0, 'B': 20.0, 'G': 12.0}\n",
            "t + 1 prob:  11.200000000000001\n",
            "\n",
            "iter prob sum: 100.00000000000001\n",
            "\n",
            "[[70.0, 68.0, 64.4], [10.0, 20.0, 24.4], [20.0, 12.0, 11.200000000000001]]\n"
          ]
        }
      ]
    }
  ]
}