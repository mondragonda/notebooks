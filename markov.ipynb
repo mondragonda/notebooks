{
  "nbformat": 4,
  "nbformat_minor": 0,
  "metadata": {
    "colab": {
      "provenance": [],
      "authorship_tag": "ABX9TyMWfP3qJpAJ97hqAauRtYRB",
      "include_colab_link": true
    },
    "kernelspec": {
      "name": "python3",
      "display_name": "Python 3"
    },
    "language_info": {
      "name": "python"
    }
  },
  "cells": [
    {
      "cell_type": "markdown",
      "metadata": {
        "id": "view-in-github",
        "colab_type": "text"
      },
      "source": [
        "<a href=\"https://colab.research.google.com/github/mondragonda/notebooks/blob/main/markov.ipynb\" target=\"_parent\"><img src=\"https://colab.research.google.com/assets/colab-badge.svg\" alt=\"Open In Colab\"/></a>"
      ]
    },
    {
      "cell_type": "code",
      "execution_count": 1,
      "metadata": {
        "colab": {
          "base_uri": "https://localhost:8080/"
        },
        "id": "rknzEqjTUGME",
        "outputId": "ecb0db87-efcf-4623-bc0b-aa2c9c0750fe"
      },
      "outputs": [
        {
          "output_type": "stream",
          "name": "stdout",
          "text": [
            "Looking in indexes: https://pypi.org/simple, https://us-python.pkg.dev/colab-wheels/public/simple/\n",
            "Requirement already satisfied: numpy in /usr/local/lib/python3.7/dist-packages (1.21.6)\n"
          ]
        }
      ],
      "source": [
        "!pip install numpy"
      ]
    },
    {
      "cell_type": "code",
      "source": [
        "from numpy.core.memmap import ndarray\n",
        "import numpy\n",
        "\n",
        "#Markov chain\n",
        "sample = numpy.random.random_sample(100)\n",
        "\n",
        "# A, B\n",
        "t = 6\n",
        "initial_distibution = [0.9, 0.1]\n",
        "A = numpy.zeros(int(sample.shape[0] * initial_distibution[0]))\n",
        "B = numpy.ones(int(sample.shape[0] * initial_distibution[1]))\n",
        "\n",
        "                               #state A    #state B\n",
        "transition_probabilities = numpy.array([[0.8, 0.2],  [0.7, 0.3]])\n",
        "transition_matrix_A = numpy.array([A[int()]])\n",
        "transition_matrix_B = numpy.array([])\n",
        "\n",
        "total_A_A = 100 * 0.9\n",
        "total_A_B = total_A_A\n",
        "total_B_B = 100 * 0.1\n",
        "total_B_A = total_B_B\n",
        "\n",
        "print('initial state: ', f'A: {A.shape[0]}', f'B: {B.shape[0]}')\n",
        "\n",
        "for t in range(t):\n",
        "  print('iter: ',t)\n",
        "  total_A_A = total_A_A * 0.8\n",
        "  total_A_B = total_A_B * 0.2\n",
        "  print(f'A -> A: {total_A_A}', f'A -> B: {total_A_B}')\n",
        "  total_B_B = total_B_B * 0.7\n",
        "  total_B_A = total_B_A * 0.3\n",
        "  print(f'B -> B: {total_B_B}', f'B -> A: {total_B_A}')\n",
        "  print(f'A: {total_A_A + total_B_A}', f'B: {total_A_B + total_B_B}')\n",
        "\n"
      ],
      "metadata": {
        "colab": {
          "base_uri": "https://localhost:8080/"
        },
        "id": "bsNlcrkzUTeE",
        "outputId": "b3bc2c0c-b795-494a-d0f2-c1b05d983621"
      },
      "execution_count": 96,
      "outputs": [
        {
          "output_type": "stream",
          "name": "stdout",
          "text": [
            "initial state:  A: 90 B: 10\n",
            "iter:  0\n",
            "A -> A: 72.0 A -> B: 18.0\n",
            "B -> B: 7.0 B -> A: 3.0\n",
            "A: 75.0 B: 25.0\n",
            "iter:  1\n",
            "A -> A: 57.6 A -> B: 3.6\n",
            "B -> B: 4.8999999999999995 B -> A: 0.8999999999999999\n",
            "A: 58.5 B: 8.5\n",
            "iter:  2\n",
            "A -> A: 46.080000000000005 A -> B: 0.7200000000000001\n",
            "B -> B: 3.4299999999999993 B -> A: 0.26999999999999996\n",
            "A: 46.35000000000001 B: 4.1499999999999995\n",
            "iter:  3\n",
            "A -> A: 36.864000000000004 A -> B: 0.14400000000000002\n",
            "B -> B: 2.4009999999999994 B -> A: 0.08099999999999999\n",
            "A: 36.94500000000001 B: 2.5449999999999995\n",
            "iter:  4\n",
            "A -> A: 29.491200000000006 A -> B: 0.028800000000000006\n",
            "B -> B: 1.6806999999999994 B -> A: 0.024299999999999995\n",
            "A: 29.515500000000007 B: 1.7094999999999994\n",
            "iter:  5\n",
            "A -> A: 23.592960000000005 A -> B: 0.005760000000000001\n",
            "B -> B: 1.1764899999999996 B -> A: 0.007289999999999998\n",
            "A: 23.600250000000006 B: 1.1822499999999996\n"
          ]
        }
      ]
    }
  ]
}